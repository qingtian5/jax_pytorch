{
 "cells": [
  {
   "cell_type": "code",
   "execution_count": 1,
   "metadata": {},
   "outputs": [
    {
     "name": "stderr",
     "output_type": "stream",
     "text": [
      "/opt/conda/lib/python3.9/site-packages/tqdm/auto.py:22: TqdmWarning: IProgress not found. Please update jupyter and ipywidgets. See https://ipywidgets.readthedocs.io/en/stable/user_install.html\n",
      "  from .autonotebook import tqdm as notebook_tqdm\n"
     ]
    },
    {
     "name": "stdout",
     "output_type": "stream",
     "text": [
      "(1000, 10)\n",
      "pairwise_matrix: (1000, 1000)\n",
      "(500500,) 10\n",
      "(1000, 10)\n",
      "pairwise_matrix: (1000, 1000)\n",
      "(500500,) 10\n"
     ]
    },
    {
     "data": {
      "text/plain": [
       "Array(1, dtype=int32)"
      ]
     },
     "execution_count": 1,
     "metadata": {},
     "output_type": "execute_result"
    }
   ],
   "source": [
    "import os\n",
    "import json\n",
    "\n",
    "import jax.numpy as jnp\n",
    "from jax import random\n",
    "from mmdfuse_pytorch import mmdfuse as pytorch_mmdfuse\n",
    "from mmdfuse import mmdfuse\n",
    "\n",
    "\n",
    "# generate data for two-sample test\n",
    "key = random.PRNGKey(0)\n",
    "key, subkey = random.split(key)\n",
    "subkeys = random.split(subkey, num=2)\n",
    "X = random.uniform(subkeys[0], shape=(500, 10))\n",
    "Y = random.uniform(subkeys[1], shape=(500, 10)) + 1\n",
    "\n",
    "# run MMD-FUSE test\n",
    "key, subkey = random.split(key)\n",
    "output = mmdfuse(X, Y, subkey)\n",
    "output"
   ]
  },
  {
   "cell_type": "code",
   "execution_count": null,
   "metadata": {},
   "outputs": [],
   "source": [
    "# Array(1, dtype=int32)\n",
    "output = output.item()\n",
    "print(output)\n"
   ]
  },
  {
   "cell_type": "code",
   "execution_count": 5,
   "metadata": {},
   "outputs": [
    {
     "name": "stdout",
     "output_type": "stream",
     "text": [
      "1\n",
      "0.00049975014\n"
     ]
    }
   ],
   "source": [
    "output, p_value = mmdfuse(X, Y, subkey, return_p_val=True)\n",
    "\n",
    "print(output)\n",
    "#Array(1, dtype=int32)\n",
    "print(p_value)\n",
    "#Array(0.00049975, dtype=float32)"
   ]
  },
  {
   "cell_type": "code",
   "execution_count": null,
   "metadata": {},
   "outputs": [],
   "source": [
    "import numpy as np\n",
    "np.array(X)"
   ]
  },
  {
   "cell_type": "code",
   "execution_count": 1,
   "metadata": {},
   "outputs": [
    {
     "name": "stderr",
     "output_type": "stream",
     "text": [
      "/opt/conda/lib/python3.9/site-packages/tqdm/auto.py:22: TqdmWarning: IProgress not found. Please update jupyter and ipywidgets. See https://ipywidgets.readthedocs.io/en/stable/user_install.html\n",
      "  from .autonotebook import tqdm as notebook_tqdm\n"
     ]
    },
    {
     "name": "stdout",
     "output_type": "stream",
     "text": [
      "tensor(1, dtype=torch.int32)\n",
      "1\n"
     ]
    }
   ],
   "source": [
    "import torch\n",
    "import torch.nn.functional as F\n",
    "from mmdfuse_pytorch import mmdfuse  # 假设已经按照之前的回答将 mmdfuse 函数转换为 PyTorch\n",
    "\n",
    "# 生成用于双样本检验的数据\n",
    "torch.manual_seed(0)\n",
    "X = torch.rand(500, 10)  # 在 [0, 1) 之间生成均匀分布的随机数\n",
    "Y = torch.rand(500, 10) + 1  # 在 [1, 2) 之间生成均匀分布的随机数\n",
    "\n",
    "# 运行 MMD-FUSE 检验\n",
    "output = mmdfuse(X, Y)\n",
    "print(output)  # 打印结果\n",
    "# tensor(1, dtype=torch.int32)\n",
    "\n",
    "output = output.item()\n",
    "print(output)  # 打印标量结果\n",
    "# 1\n",
    "\n"
   ]
  },
  {
   "cell_type": "code",
   "execution_count": 2,
   "metadata": {},
   "outputs": [
    {
     "name": "stdout",
     "output_type": "stream",
     "text": [
      "tensor(1, dtype=torch.int32)\n",
      "tensor(0.0005)\n"
     ]
    }
   ],
   "source": [
    "output, p_value = mmdfuse(X, Y, return_p_val=True)\n",
    "print(output)  # 打印结果\n",
    "# tensor(1, dtype=torch.int32)\n",
    "\n",
    "print(p_value)  # 打印 p 值\n",
    "# tensor(0.0005, dtype=torch.float32)\n"
   ]
  }
 ],
 "metadata": {
  "kernelspec": {
   "display_name": "Python 3",
   "language": "python",
   "name": "python3"
  },
  "language_info": {
   "codemirror_mode": {
    "name": "ipython",
    "version": 3
   },
   "file_extension": ".py",
   "mimetype": "text/x-python",
   "name": "python",
   "nbconvert_exporter": "python",
   "pygments_lexer": "ipython3",
   "version": "3.9.16"
  }
 },
 "nbformat": 4,
 "nbformat_minor": 2
}
