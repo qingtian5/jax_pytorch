{
 "cells": [
  {
   "cell_type": "code",
   "execution_count": 1,
   "metadata": {},
   "outputs": [
    {
     "name": "stdout",
     "output_type": "stream",
     "text": [
      "(500, 10)\n",
      "(500, 10)\n"
     ]
    }
   ],
   "source": [
    "import numpy as np\n",
    "\n",
    "# 设置随机种子\n",
    "np.random.seed(0)\n",
    "\n",
    "# 生成两组数据\n",
    "X = np.random.uniform(low=0.0, high=1.0, size=(500, 10)).astype(np.float32)\n",
    "Y = np.random.uniform(low=0.0, high=1.0, size=(500, 10)).astype(np.float32) + 1\n",
    "\n",
    "print(X.shape)\n",
    "print(Y.shape)\n"
   ]
  },
  {
   "cell_type": "code",
   "execution_count": 16,
   "metadata": {},
   "outputs": [
    {
     "name": "stdout",
     "output_type": "stream",
     "text": [
      "1 0.00049975014\n"
     ]
    }
   ],
   "source": [
    "import os\n",
    "import json\n",
    "\n",
    "import jax.numpy as jnp\n",
    "from jax import random\n",
    "from mmdfuse_pytorch import mmdfuse as pytorch_mmdfuse\n",
    "from mmdfuse import mmdfuse\n",
    "\n",
    "\n",
    "# generate data for two-sample test\n",
    "key = random.PRNGKey(0)\n",
    "key, subkey = random.split(key)\n",
    "subkeys = random.split(subkey, num=2)\n",
    "\n",
    "# run MMD-FUSE test\n",
    "key, subkey = random.split(key)\n",
    "output, p_value = mmdfuse(X, Y, subkey, return_p_val=True)\n",
    "print(output, p_value)"
   ]
  },
  {
   "cell_type": "code",
   "execution_count": 17,
   "metadata": {},
   "outputs": [
    {
     "data": {
      "text/plain": [
       "Array(0.00049975, dtype=float32)"
      ]
     },
     "execution_count": 17,
     "metadata": {},
     "output_type": "execute_result"
    }
   ],
   "source": [
    "p_value"
   ]
  },
  {
   "cell_type": "code",
   "execution_count": 22,
   "metadata": {},
   "outputs": [
    {
     "name": "stdout",
     "output_type": "stream",
     "text": [
      "tensor(1, dtype=torch.int32)\n",
      "1\n"
     ]
    }
   ],
   "source": [
    "import torch\n",
    "import torch.nn.functional as F\n",
    "from mmdfuse_pytorch import mmdfuse  # 假设已经按照之前的回答将 mmdfuse 函数转换为 PyTorch\n",
    "\n",
    "Xt = torch.tensor(X, dtype=torch.float32)\n",
    "Yt = torch.tensor(Y, dtype=torch.float32)\n",
    "\n",
    "# 运行 MMD-FUSE 检验\n",
    "output = mmdfuse(Xt, Yt)\n",
    "print(output)  # 打印结果\n",
    "# tensor(1, dtype=torch.int32)\n",
    "\n",
    "output = output.item()\n",
    "print(output)  # 打印标量结果\n",
    "# 1\n",
    "\n"
   ]
  },
  {
   "cell_type": "code",
   "execution_count": 24,
   "metadata": {},
   "outputs": [
    {
     "name": "stdout",
     "output_type": "stream",
     "text": [
      "tensor(1, dtype=torch.int32)\n",
      "0.0004997501382604241\n"
     ]
    }
   ],
   "source": [
    "output, p_value = mmdfuse(Xt, Yt, return_p_val=True)\n",
    "print(output)  # 打印结果\n",
    "# tensor(1, dtype=torch.int32)\n",
    "\n",
    "print(p_value.item())  # 打印 p 值\n",
    "# tensor(0.0005, dtype=torch.float32)\n"
   ]
  },
  {
   "cell_type": "code",
   "execution_count": null,
   "metadata": {},
   "outputs": [],
   "source": []
  }
 ],
 "metadata": {
  "kernelspec": {
   "display_name": "Python 3",
   "language": "python",
   "name": "python3"
  },
  "language_info": {
   "codemirror_mode": {
    "name": "ipython",
    "version": 3
   },
   "file_extension": ".py",
   "mimetype": "text/x-python",
   "name": "python",
   "nbconvert_exporter": "python",
   "pygments_lexer": "ipython3",
   "version": "3.9.16"
  }
 },
 "nbformat": 4,
 "nbformat_minor": 2
}
